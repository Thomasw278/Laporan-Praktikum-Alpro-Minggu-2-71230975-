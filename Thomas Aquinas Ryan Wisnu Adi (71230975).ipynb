{
 "cells": [
  {
   "cell_type": "code",
   "execution_count": 1,
   "id": "0fb85a59",
   "metadata": {},
   "outputs": [
    {
     "name": "stdout",
     "output_type": "stream",
     "text": [
      "Masukkan Tinggi Badan (Meter): 1.53\n",
      "Masukkan Body Mass Index (BMI): 20\n",
      "47 Kg\n"
     ]
    }
   ],
   "source": [
    "#Menghitung Body Mass Index (BMI)\n",
    "# Rumus mencari BMI = (berat)/(tinggi(**(2)))\n",
    "Tinggi = float(input(\"Masukkan Tinggi Badan (Meter): \"))\n",
    "BMI = float(input(\"Masukkan Body Mass Index (BMI): \"))\n",
    "rumus = (BMI) * (Tinggi)**(2) #Rumus mencari Berat badan jika diketahui BMI dan Tinggi \n",
    "print(round(rumus),\"Kg\")"
   ]
  },
  {
   "cell_type": "code",
   "execution_count": 6,
   "id": "8fc62f29",
   "metadata": {},
   "outputs": [
    {
     "name": "stdout",
     "output_type": "stream",
     "text": [
      "Masukkan Nilai X: 10\n",
      "2021.5\n"
     ]
    }
   ],
   "source": [
    "#Program Mencari Nilai X\n",
    "x = int((input(\"Masukkan Nilai X: \")))\n",
    "Rumus = ((2 * ((x)) ** (3)) + (2 * (x)) + 15/x)\n",
    "print(round(Rumus,2))"
   ]
  },
  {
   "cell_type": "code",
   "execution_count": 7,
   "id": "0c7a4849",
   "metadata": {},
   "outputs": [
    {
     "name": "stdout",
     "output_type": "stream",
     "text": [
      "Masukkan Nilai X: 7\n",
      "702.14\n"
     ]
    }
   ],
   "source": [
    "#Program Mencari Nilai X\n",
    "x = int((input(\"Masukkan Nilai X: \")))\n",
    "Rumus = ((2 * ((x)) ** (3)) + (2 * (x)) + 15/x)\n",
    "print(round(Rumus,2))"
   ]
  },
  {
   "cell_type": "code",
   "execution_count": 1,
   "id": "3a61f2af",
   "metadata": {},
   "outputs": [
    {
     "name": "stdout",
     "output_type": "stream",
     "text": [
      "Gaji per Jam yang anda inginkan : 65000\n",
      "Jumlah jam kerja yang akan dilakukan dalam 1 minggu : 30\n",
      "9750000\n",
      "8385000\n",
      "838500\n",
      "83850\n",
      "1865662\n",
      "559800\n",
      "1305862\n"
     ]
    }
   ],
   "source": [
    "#Pendapatan Budi selama libur musim panas sebelum melakukan pembayaran pajak\n",
    "gajiperjam = int(input(\"Gaji per Jam yang anda inginkan : \"))\n",
    "jumlahjam = int(input(\"Jumlah jam kerja yang akan dilakukan dalam 1 minggu : \"))\n",
    "Pendapatan = gajiperjam * jumlahjam * 5\n",
    "print(round(Pendapatan))\n",
    "\n",
    "#Pendapatan Budi selama libur musim panas setelah melakukan pembayaran pajak\n",
    "Pendapatansetelahpajak = Pendapatan * (14/100)\n",
    "totalsetelahpajak = Pendapatan - Pendapatansetelahpajak\n",
    "print(round(totalsetelahpajak))\n",
    "\n",
    "#Jumlah uang yang akan Budi habiskan untuk membeli pakaian dan aksesoris\n",
    "membelibarang1 = totalsetelahpajak * 10/100\n",
    "print(round(membelibarang1))\n",
    "\n",
    "#Jumlah uang yang akan Budi habiskan untuk membeli alat tulis\n",
    "membelibarang2 = totalsetelahpajak * 1/100\n",
    "print(round(membelibarang2))\n",
    "\n",
    "#Jumlah Total setelah membeli barang 1 dan barang 2\n",
    "totalbarang = membelibarang1 + membelibarang2\n",
    "totalsetelahmembelibarang = totalsetelahpajak - totalbarang\n",
    "\n",
    "# Jumlah uang yang akan Budi sedekahkan\n",
    "uangsedekah = totalsetelahmembelibarang * 25/100\n",
    "print(round(uangsedekah))\n",
    "\n",
    "#Pembulatan \n",
    "pembulatan = (round(uangsedekah / 1000) * 1000)\n",
    "\n",
    "#Jumlah uang yang akan diterima anak yatim\n",
    "uanganakyatim = 30/100 * pembulatan \n",
    "print(round(uanganakyatim))\n",
    "\n",
    "#Jumlah uang yang akan diterima kaum dhuafa\n",
    "print(round(uangsedekah-uanganakyatim))"
   ]
  },
  {
   "cell_type": "code",
   "execution_count": 2,
   "id": "81ebc244",
   "metadata": {},
   "outputs": [
    {
     "name": "stdout",
     "output_type": "stream",
     "text": [
      "Gaji per Jam yang anda inginkan : 30000\n",
      "Jumlah jam kerja yang akan dilakukan dalam 1 minggu : 30\n",
      "Pendapatan Budi selama libur musim panas sebelum melakukan pembayaran pajak: 4500000\n",
      "Pendapatan Budi selama libur musim panas setelah melakukan pembayaran pajak: 3870000\n",
      "Jumlah uang yang akan Budi habiskan untuk membeli pakaian dan aksesoris: 387000\n",
      "Jumlah uang yang akan Budi habiskan untuk membeli alat tulis: 38700\n",
      "Jumlah uang yang akan Budi sedekahkan: 861075\n",
      "Jumlah uang yang akan diterima anak yatim: 258300\n",
      "Jumlah uang yang akan diterima kaum dhuafa: 602775\n"
     ]
    }
   ],
   "source": [
    "#Pendapatan Budi selama libur musim panas sebelum melakukan pembayaran pajak\n",
    "gajiperjam = int(input(\"Gaji per Jam yang anda inginkan : \"))\n",
    "jumlahjam = int(input(\"Jumlah jam kerja yang akan dilakukan dalam 1 minggu : \"))\n",
    "Pendapatan = gajiperjam * jumlahjam * 5\n",
    "print(\"Pendapatan Budi selama libur musim panas sebelum melakukan pembayaran pajak:\",round(Pendapatan))\n",
    "\n",
    "#Pendapatan Budi selama libur musim panas setelah melakukan pembayaran pajak\n",
    "Pendapatansetelahpajak = Pendapatan * (14/100)\n",
    "totalsetelahpajak = Pendapatan - Pendapatansetelahpajak\n",
    "print(\"Pendapatan Budi selama libur musim panas setelah melakukan pembayaran pajak:\",round(totalsetelahpajak))\n",
    "\n",
    "#Jumlah uang yang akan Budi habiskan untuk membeli pakaian dan aksesoris\n",
    "membelibarang1 = totalsetelahpajak * 10/100\n",
    "print(\"Jumlah uang yang akan Budi habiskan untuk membeli pakaian dan aksesoris:\",round(membelibarang1))\n",
    "\n",
    "#Jumlah uang yang akan Budi habiskan untuk membeli alat tulis\n",
    "membelibarang2 = totalsetelahpajak * 1/100\n",
    "print(\"Jumlah uang yang akan Budi habiskan untuk membeli alat tulis:\",round(membelibarang2))\n",
    "\n",
    "#Jumlah Total setelah membeli barang 1 dan barang 2\n",
    "totalbarang = membelibarang1 + membelibarang2\n",
    "totalsetelahmembelibarang = totalsetelahpajak - totalbarang\n",
    "\n",
    "# Jumlah uang yang akan Budi sedekahkan\n",
    "uangsedekah = totalsetelahmembelibarang * 25/100\n",
    "print(\"Jumlah uang yang akan Budi sedekahkan:\",round(uangsedekah))\n",
    "\n",
    "#Pembulatan \n",
    "pembulatan = (round(uangsedekah / 1000) * 1000)\n",
    "\n",
    "#Jumlah uang yang akan diterima anak yatim\n",
    "uanganakyatim = 30/100 * pembulatan \n",
    "print(\"Jumlah uang yang akan diterima anak yatim:\",round(uanganakyatim))\n",
    "\n",
    "#Jumlah uang yang akan diterima kaum dhuafa\n",
    "print(\"Jumlah uang yang akan diterima kaum dhuafa:\",round(uangsedekah-uanganakyatim))"
   ]
  },
  {
   "cell_type": "code",
   "execution_count": 4,
   "id": "a17b61ff",
   "metadata": {},
   "outputs": [
    {
     "name": "stdout",
     "output_type": "stream",
     "text": [
      "Gaji per Jam yang anda inginkan : 30000\n",
      "Jumlah jam kerja yang akan dilakukan dalam 1 minggu : 30\n",
      "Pendapatan Budi selama libur musim panas sebelum melakukan pembayaran pajak:\n",
      " Rp 4500000\n",
      "Pendapatan Budi selama libur musim panas setelah melakukan pembayaran pajak: \n",
      " Rp 3870000\n",
      "Jumlah uang yang akan Budi habiskan untuk membeli pakaian dan aksesoris:\n",
      " Rp 387000\n",
      "Jumlah uang yang akan Budi habiskan untuk membeli alat tulis:\n",
      " Rp 38700\n",
      "Jumlah uang yang akan Budi sedekahkan:\n",
      " Rp 861075\n",
      "Jumlah uang yang akan diterima anak yatim:\n",
      " Rp 258300\n",
      "Jumlah uang yang akan diterima kaum dhuafa:\n",
      " Rp 602775\n"
     ]
    }
   ],
   "source": [
    "#Pendapatan Budi selama libur musim panas sebelum melakukan pembayaran pajak\n",
    "gajiperjam = int(input(\"Gaji per Jam yang anda inginkan : \"))\n",
    "jumlahjam = int(input(\"Jumlah jam kerja yang akan dilakukan dalam 1 minggu : \"))\n",
    "Pendapatan = gajiperjam * jumlahjam * 5\n",
    "print(\"Pendapatan Budi selama libur musim panas sebelum melakukan pembayaran pajak:\\n Rp\",round(Pendapatan))\n",
    "\n",
    "#Pendapatan Budi selama libur musim panas setelah melakukan pembayaran pajak\n",
    "Pendapatansetelahpajak = Pendapatan * (14/100)\n",
    "totalsetelahpajak = Pendapatan - Pendapatansetelahpajak\n",
    "print(\"Pendapatan Budi selama libur musim panas setelah melakukan pembayaran pajak: \\n Rp\",round(totalsetelahpajak))\n",
    "\n",
    "#Jumlah uang yang akan Budi habiskan untuk membeli pakaian dan aksesoris\n",
    "membelibarang1 = totalsetelahpajak * 10/100\n",
    "print(\"Jumlah uang yang akan Budi habiskan untuk membeli pakaian dan aksesoris:\\n Rp\",round(membelibarang1))\n",
    "\n",
    "#Jumlah uang yang akan Budi habiskan untuk membeli alat tulis\n",
    "membelibarang2 = totalsetelahpajak * 1/100\n",
    "print(\"Jumlah uang yang akan Budi habiskan untuk membeli alat tulis:\\n Rp\",round(membelibarang2))\n",
    "\n",
    "#Jumlah Total setelah membeli barang 1 dan barang 2\n",
    "totalbarang = membelibarang1 + membelibarang2\n",
    "totalsetelahmembelibarang = totalsetelahpajak - totalbarang\n",
    "\n",
    "# Jumlah uang yang akan Budi sedekahkan\n",
    "uangsedekah = totalsetelahmembelibarang * 25/100\n",
    "print(\"Jumlah uang yang akan Budi sedekahkan:\\n Rp\",round(uangsedekah))\n",
    "\n",
    "#Pembulatan \n",
    "pembulatan = (round(uangsedekah / 1000) * 1000)\n",
    "\n",
    "#Jumlah uang yang akan diterima anak yatim\n",
    "uanganakyatim = 30/100 * pembulatan \n",
    "print(\"Jumlah uang yang akan diterima anak yatim:\\n Rp\",round(uanganakyatim))\n",
    "\n",
    "#Jumlah uang yang akan diterima kaum dhuafa\n",
    "print(\"Jumlah uang yang akan diterima kaum dhuafa:\\n Rp\",round(uangsedekah-uanganakyatim))"
   ]
  },
  {
   "cell_type": "code",
   "execution_count": 1,
   "id": "649dc832",
   "metadata": {},
   "outputs": [
    {
     "name": "stdout",
     "output_type": "stream",
     "text": [
      "Gaji per Jam yang anda inginkan : 30000\n",
      "Jumlah jam kerja yang akan dilakukan dalam 1 minggu : 30\n",
      "Pendapatan Budi selama libur musim panas sebelum melakukan pembayaran pajak:\n",
      " Rp 4500000\n",
      "Pendapatan Budi selama libur musim panas setelah melakukan pembayaran pajak: \n",
      " Rp 3870000\n",
      "Jumlah uang yang akan Budi habiskan untuk membeli pakaian dan aksesoris:\n",
      " Rp 387000\n",
      "Jumlah uang yang akan Budi habiskan untuk membeli alat tulis:\n",
      " Rp 38700\n",
      "Jumlah uang yang akan Budi sedekahkan:\n",
      " Rp 861075\n",
      "Jumlah uang yang akan diterima anak yatim:\n",
      " Rp 258300\n",
      "Jumlah uang yang akan diterima kaum dhuafa:\n",
      " Rp 602775\n"
     ]
    }
   ],
   "source": [
    "#Pendapatan Budi selama libur musim panas sebelum melakukan pembayaran pajak\n",
    "gajiperjam = int(input(\"Gaji per Jam yang anda inginkan : \"))\n",
    "jumlahjam = int(input(\"Jumlah jam kerja yang akan dilakukan dalam 1 minggu : \"))\n",
    "Pendapatan = gajiperjam * jumlahjam * 5\n",
    "print(\"Pendapatan Budi selama libur musim panas sebelum melakukan pembayaran pajak:\\n Rp\",round(Pendapatan))\n",
    "\n",
    "#Pendapatan Budi selama libur musim panas setelah melakukan pembayaran pajak\n",
    "Pendapatansetelahpajak = Pendapatan * (14/100)\n",
    "totalsetelahpajak = Pendapatan - Pendapatansetelahpajak\n",
    "print(\"Pendapatan Budi selama libur musim panas setelah melakukan pembayaran pajak: \\n Rp\",round(totalsetelahpajak))\n",
    "\n",
    "#Jumlah uang yang akan Budi habiskan untuk membeli pakaian dan aksesoris\n",
    "membelibarang1 = totalsetelahpajak * 10/100\n",
    "print(\"Jumlah uang yang akan Budi habiskan untuk membeli pakaian dan aksesoris:\\n Rp\",round(membelibarang1))\n",
    "\n",
    "#Jumlah uang yang akan Budi habiskan untuk membeli alat tulis\n",
    "membelibarang2 = totalsetelahpajak * 1/100\n",
    "print(\"Jumlah uang yang akan Budi habiskan untuk membeli alat tulis:\\n Rp\",round(membelibarang2))\n",
    "\n",
    "#Jumlah Total setelah membeli barang 1 dan barang 2\n",
    "totalbarang = membelibarang1 + membelibarang2\n",
    "totalsetelahmembelibarang = totalsetelahpajak - totalbarang\n",
    "\n",
    "# Jumlah uang yang akan Budi sedekahkan\n",
    "uangsedekah = totalsetelahmembelibarang * 25/100\n",
    "print(\"Jumlah uang yang akan Budi sedekahkan:\\n Rp\",round(uangsedekah))\n",
    "\n",
    "#Pembulatan \n",
    "pembulatan = (int(uangsedekah / 1000) * 1000)\n",
    "\n",
    "#Jumlah uang yang akan diterima anak yatim\n",
    "uanganakyatim = 30/100 * pembulatan \n",
    "print(\"Jumlah uang yang akan diterima anak yatim:\\n Rp\",round(uanganakyatim))\n",
    "\n",
    "#Jumlah uang yang akan diterima kaum dhuafa\n",
    "print(\"Jumlah uang yang akan diterima kaum dhuafa:\\n Rp\",round(uangsedekah-uanganakyatim))"
   ]
  },
  {
   "cell_type": "code",
   "execution_count": null,
   "id": "72572891",
   "metadata": {},
   "outputs": [],
   "source": []
  }
 ],
 "metadata": {
  "kernelspec": {
   "display_name": "Python 3 (ipykernel)",
   "language": "python",
   "name": "python3"
  },
  "language_info": {
   "codemirror_mode": {
    "name": "ipython",
    "version": 3
   },
   "file_extension": ".py",
   "mimetype": "text/x-python",
   "name": "python",
   "nbconvert_exporter": "python",
   "pygments_lexer": "ipython3",
   "version": "3.11.5"
  }
 },
 "nbformat": 4,
 "nbformat_minor": 5
}
